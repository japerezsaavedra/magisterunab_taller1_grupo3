{
  "cells": [
    {
      "cell_type": "markdown",
      "metadata": {
        "id": "view-in-github",
        "colab_type": "text"
      },
      "source": [
        "<a href=\"https://colab.research.google.com/github/japerezsaavedra/magisterunab_taller1_grupo3/blob/dev/taller1_instrucciones_markdown.ipynb\" target=\"_parent\"><img src=\"https://colab.research.google.com/assets/colab-badge.svg\" alt=\"Open In Colab\"/></a>"
      ]
    },
    {
      "cell_type": "markdown",
      "id": "7a985404",
      "metadata": {
        "id": "7a985404"
      },
      "source": [
        "# Taller 1\n",
        "## Análisis de grandes volúmenes de datos\n",
        "Manejo de RDDs y DataFrame en Spark"
      ]
    },
    {
      "cell_type": "markdown",
      "id": "c1cc8314",
      "metadata": {
        "id": "c1cc8314"
      },
      "source": [
        "### Instrucciones:"
      ]
    },
    {
      "cell_type": "markdown",
      "id": "82989233",
      "metadata": {
        "id": "82989233"
      },
      "source": [
        "El taller cuenta con 130 puntos.\n",
        "El taller debe ser entregado como plazo máximo Martes  10 de junio a las 23:59 pm.\n",
        "Usted deberá crear un notebook en colab en donde instale spark, java, cree las variables de entorno junto a la creación del se sparkSessión sparkContext.\n",
        "El nombre del notebook deberá ser apellido de los integrantes del grupo, ejemplo: oyarce - navarro.ipynb"
      ]
    },
    {
      "cell_type": "markdown",
      "id": "e24c1626",
      "metadata": {
        "id": "e24c1626"
      },
      "source": [
        "Se cuenta con la data de los juegos olímpicos realizados desde sus inicios, para ello se logró crear los siguientes archivos: juegos.json, resultados.csv,evento.csv,equipo.csv,deportistas.csv.\n",
        "Ellos se relacionan de acuerdo al modelo que se entrega a continuación"
      ]
    },
    {
      "cell_type": "markdown",
      "id": "5d5f00b6",
      "metadata": {
        "id": "5d5f00b6"
      },
      "source": [
        "## I.- Manejo y uso de RDDs en Spark"
      ]
    },
    {
      "cell_type": "markdown",
      "id": "a7b103d9",
      "metadata": {
        "id": "a7b103d9"
      },
      "source": [
        "- [5 ptos] Crear un rdd que posea 6 particiones llamado deportista, que lea el archivo deportista.csv.\n",
        "- [5 ptos] Crear un rdd llamado deportista2, que lea el archivo deportista2.csv.\n",
        "- [5 ptos] Crear un nuevo rdd llamado deportistaTotal que contenga la unión de los rdd deportista y deportista2.\n",
        "- [5 ptos] Mostrar la cantidad de registros que posee el rdd deportistaTotal\n",
        "- [5 ptos] Crear un RDD llamado MayorEdad que permita filtrar todos los deportistas mayores de edad\n",
        "- [5 ptos] Crear un RDD llamado Deportistas_mujer que muestre solo los deportistas del género femenino (sexo=2).\n",
        "- [5 ptos] Convertir a mayúsculas todas las palabras del rdd deportistaTotal\n",
        "- [10 ptos] Convertir el rdd deportistaTotal en un dataframe llamado deportista que tenga los siguientes títulos de columnas \"deportista_id\", \"nombre\", \"genero\", \"edad\", \"altura\", \"peso\", \"equipo_id\""
      ]
    },
    {
      "cell_type": "markdown",
      "id": "ba45e0f6",
      "metadata": {
        "id": "ba45e0f6"
      },
      "source": [
        "## II.- Manejo y uso de DataFrames en Spark"
      ]
    },
    {
      "cell_type": "markdown",
      "id": "ef07ce98",
      "metadata": {
        "id": "ef07ce98"
      },
      "source": [
        "- [20 ptos] Crear los DataFrame Evento, Resultado, Equipos y Juego los que deben contener los datos de los archivos eventos.csv, equipos, resultado.csv y juego.json.\n",
        "- [10 ptos] Realizar optimización de los dataframe que se han creado.\n",
        "- [20 ptos] Crear un nuevo dataframe que contenga los datos de todos los dataframes (deportista, evento, equipo, resultado y juego)\n",
        "- [10 ptos] Paralelizar el dataframe a 5 particiones.\n",
        "- [5 ptos] Mostrar la cantidad filas del DataFrame, junto al tipo de datos que contiene y su esquema.\n",
        "- [10 ptos] Crear una columna calculada llamada IMC en el dataframe que permita calcular el índice de masa corporal de cada uno de los deportistas."
      ]
    },
    {
      "cell_type": "markdown",
      "id": "064357bc",
      "metadata": {
        "id": "064357bc"
      },
      "source": [
        "- [10 ptos] Crear una columna calculada llamada Descripción_sexo en el dataframe que permita determinar el sexo de los deportistas, considerando que la columna sexo=1 es hombre y sexo=2 es mujer.\n",
        "- [10 ptos] Crear un DataFrame que permita mostrar la cantidad de medallas de cada una de las categorías (oro, bronce, plata) obtenidas por los Equipos.\n",
        "- [10 ptos] Crear un Dataframe que permita obtener suma, promedio, máximo, mínimo de la edad de los deportistas por agrupado el tipo de medalla obtenida.\n",
        "- [10 ptos] Crear un nuevo DataFrame llamado temporada que permita obtener suma, promedio, máximo, mínimo de las alturas de los deportistas por agrupado por temporada.\n",
        "- [10 ptos] Crear un nuevo DataFrame llamado sexo que permita obtener suma, promedio, máximo, mínimo de la edad de los deportistas por agrupado por sexo."
      ]
    }
  ],
  "metadata": {
    "colab": {
      "provenance": [],
      "include_colab_link": true
    }
  },
  "nbformat": 4,
  "nbformat_minor": 5
}