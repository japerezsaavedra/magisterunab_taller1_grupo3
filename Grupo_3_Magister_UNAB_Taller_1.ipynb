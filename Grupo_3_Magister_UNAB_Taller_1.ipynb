{
  "cells": [
    {
      "cell_type": "markdown",
      "metadata": {
        "id": "view-in-github",
        "colab_type": "text"
      },
      "source": [
        "<a href=\"https://colab.research.google.com/github/japerezsaavedra/magisterunab_taller1_grupo3/blob/dev/Grupo_3_Magister_UNAB_Taller_1.ipynb\" target=\"_parent\"><img src=\"https://colab.research.google.com/assets/colab-badge.svg\" alt=\"Open In Colab\"/></a>"
      ]
    },
    {
      "cell_type": "markdown",
      "metadata": {
        "id": "7a985404"
      },
      "source": [
        "# Taller 1\n",
        "## Análisis de grandes volúmenes de datos\n",
        "Manejo de RDDs y DataFrame en Spark"
      ]
    },
    {
      "cell_type": "markdown",
      "metadata": {
        "id": "c1cc8314"
      },
      "source": [
        "### Instrucciones:"
      ]
    },
    {
      "cell_type": "markdown",
      "metadata": {
        "id": "82989233"
      },
      "source": [
        "El taller cuenta con 130 puntos.\n",
        "El taller debe ser entregado como plazo máximo Martes  10 de junio a las 23:59 pm.\n",
        "Usted deberá crear un notebook en colab en donde instale spark, java, cree las variables de entorno junto a la creación del se sparkSessión sparkContext.\n",
        "El nombre del notebook deberá ser apellido de los integrantes del grupo, ejemplo: oyarce - navarro.ipynb"
      ]
    },
    {
      "cell_type": "markdown",
      "source": [
        "# 1.- Instalar entorno de Spark"
      ],
      "metadata": {
        "id": "ShosjrLJ34Fg"
      }
    },
    {
      "cell_type": "markdown",
      "source": [
        "##1.1.- Instalar jdk, pyspark, hadoop"
      ],
      "metadata": {
        "id": "b2wcrxrf4ee-"
      }
    },
    {
      "cell_type": "code",
      "execution_count": 1,
      "metadata": {
        "id": "mlA7fbfEzZRU",
        "colab": {
          "base_uri": "https://localhost:8080/"
        },
        "outputId": "2264b892-e952-4efa-e0a9-013373098e4a"
      },
      "outputs": [
        {
          "output_type": "stream",
          "name": "stdout",
          "text": [
            "\u001b[2K     \u001b[90m━━━━━━━━━━━━━━━━━━━━━━━━━━━━━━━━━━━━━━━\u001b[0m \u001b[32m317.4/317.4 MB\u001b[0m \u001b[31m4.8 MB/s\u001b[0m eta \u001b[36m0:00:00\u001b[0m\n",
            "\u001b[?25h  Preparing metadata (setup.py) ... \u001b[?25l\u001b[?25hdone\n",
            "  Building wheel for pyspark (setup.py) ... \u001b[?25l\u001b[?25hdone\n"
          ]
        }
      ],
      "source": [
        "!apt-get install openjdk-8-jdk-headless -qq > /dev/null\n",
        "!wget -q https://downloads.apache.org/spark/spark-3.5.6/spark-3.5.6-bin-hadoop3.tgz\n",
        "!tar xf spark-3.5.6-bin-hadoop3.tgz\n",
        "# Instalar las bibliotecas de Python necesarias\n",
        "!pip install -q pyspark==3.5.6\n",
        "!pip install -q findspark"
      ]
    },
    {
      "cell_type": "markdown",
      "source": [
        "##1.2.- Creación de variables de entorno"
      ],
      "metadata": {
        "id": "mfBpdCVJ4y-N"
      }
    },
    {
      "cell_type": "code",
      "source": [
        "import os # libreria de manejo del sistema operativo\n",
        "os.environ[\"JAVA_HOME\"] = \"/usr/lib/jvm/java-8-openjdk-amd64\"\n",
        "os.environ[\"SPARK_HOME\"] = \"/content/spark-3.5.6-bin-hadoop3\"\n",
        "os.environ[\"PYTHON_PATH\"] = \"/content/spark-3.5.6-bin-hadoop3/python/lib/py4j-0.10.9-src.zip\""
      ],
      "metadata": {
        "id": "g9zpI7dS0B5w"
      },
      "execution_count": 2,
      "outputs": []
    },
    {
      "cell_type": "markdown",
      "source": [
        "##1.3.- Creación SparkContext"
      ],
      "metadata": {
        "id": "SSfynvCl5AI8"
      }
    },
    {
      "cell_type": "code",
      "source": [
        "import findspark\n",
        "findspark.init()\n",
        "from pyspark.sql import SparkSession\n",
        "spark = SparkSession.builder\\\n",
        "        .master(\"local[*]\")\\\n",
        "        .appName('Taller 1')\\\n",
        "        .getOrCreate()\n",
        "spark = SparkSession.builder.getOrCreate()\n",
        "sc = spark.sparkContext\n",
        "sc"
      ],
      "metadata": {
        "id": "Dr_2c3GV0Ftd",
        "colab": {
          "base_uri": "https://localhost:8080/",
          "height": 196
        },
        "outputId": "48d398ad-dc47-42b8-d5e1-db44e723e19d"
      },
      "execution_count": 3,
      "outputs": [
        {
          "output_type": "execute_result",
          "data": {
            "text/plain": [
              "<SparkContext master=local[*] appName=Taller 1>"
            ],
            "text/html": [
              "\n",
              "        <div>\n",
              "            <p><b>SparkContext</b></p>\n",
              "\n",
              "            <p><a href=\"http://32f2b5319098:4040\">Spark UI</a></p>\n",
              "\n",
              "            <dl>\n",
              "              <dt>Version</dt>\n",
              "                <dd><code>v3.5.6</code></dd>\n",
              "              <dt>Master</dt>\n",
              "                <dd><code>local[*]</code></dd>\n",
              "              <dt>AppName</dt>\n",
              "                <dd><code>Taller 1</code></dd>\n",
              "            </dl>\n",
              "        </div>\n",
              "        "
            ]
          },
          "metadata": {},
          "execution_count": 3
        }
      ]
    },
    {
      "cell_type": "markdown",
      "metadata": {
        "id": "e24c1626"
      },
      "source": [
        "Se cuenta con la data de los juegos olímpicos realizados desde sus inicios, para ello se logró crear los siguientes archivos: juegos.json, resultados.csv,evento.csv,equipo.csv,deportistas.csv.\n",
        "Ellos se relacionan de acuerdo al modelo que se entrega a continuación![Imagen 1.png](data:image/png;base64,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)"
      ]
    },
    {
      "cell_type": "markdown",
      "metadata": {
        "id": "5d5f00b6"
      },
      "source": [
        "## I.- Manejo y uso de RDDs en Spark"
      ]
    },
    {
      "cell_type": "markdown",
      "source": [
        "1. [5 ptos] Crear un rdd que posea 6 particiones llamado deportista, que lea el\n",
        "archivo deportista.csv"
      ],
      "metadata": {
        "id": "9DCPh0fFjObq"
      }
    },
    {
      "cell_type": "code",
      "source": [
        "deportista = sc.textFile('/content/deportista.csv',6)\n",
        "deportista.take(20)"
      ],
      "metadata": {
        "colab": {
          "base_uri": "https://localhost:8080/"
        },
        "id": "gIU54hxJjNSz",
        "outputId": "b526455c-6b77-4bc3-a678-b026dbca0d9d"
      },
      "execution_count": 4,
      "outputs": [
        {
          "output_type": "execute_result",
          "data": {
            "text/plain": [
              "['1,A Dijiang,1,24,180,80,199',\n",
              " '2,A Lamusi,1,23,170,60,199',\n",
              " '3,Gunnar Nielsen Aaby,1,24,0,0,273',\n",
              " '4,Edgar Lindenau Aabye,1,34,0,0,278',\n",
              " '5,Christine Jacoba Aaftink,2,21,185,82,705',\n",
              " '6,Per Knut Aaland,1,31,188,75,1096',\n",
              " '7,John Aalberg,1,31,183,72,1096',\n",
              " '8,Cornelia Cor Aalten Strannood ,2,18,168,0,705',\n",
              " '9,Antti Sami Aalto,1,26,186,96,350',\n",
              " '10,Einar Ferdinand Einari Aalto,1,26,0,0,350',\n",
              " '11,Jorma Ilmari Aalto,1,22,182,76.5,350',\n",
              " '12,Jyri Tapani Aalto,1,31,172,70,350',\n",
              " '13,Minna Maarit Aalto,2,30,159,55.5,350',\n",
              " '14,Pirjo Hannele Aalto Mattila ,2,32,171,65,350',\n",
              " '15,Arvo Ossian Aaltonen,1,22,0,0,350',\n",
              " '16,Juhamatti Tapio Aaltonen,1,28,184,85,350',\n",
              " '17,Paavo Johannes Aaltonen,1,28,175,64,350',\n",
              " '18,Timo Antero Aaltonen,1,31,189,130,350',\n",
              " '19,Win Valdemar Aaltonen,1,54,0,0,350',\n",
              " '20,Kjetil Andr Aamodt,1,20,176,85,742']"
            ]
          },
          "metadata": {},
          "execution_count": 4
        }
      ]
    },
    {
      "cell_type": "code",
      "source": [
        "deportista.getNumPartitions()"
      ],
      "metadata": {
        "id": "eOOVtWfnlVNM",
        "colab": {
          "base_uri": "https://localhost:8080/"
        },
        "outputId": "d4fe5804-9dfa-4ed6-93cc-4ac94477bf4d"
      },
      "execution_count": 5,
      "outputs": [
        {
          "output_type": "execute_result",
          "data": {
            "text/plain": [
              "6"
            ]
          },
          "metadata": {},
          "execution_count": 5
        }
      ]
    },
    {
      "cell_type": "markdown",
      "source": [
        "2. [5 ptos] Crear un rdd llamado deportista2, que lea el archivo deportista2.csv."
      ],
      "metadata": {
        "id": "fT5iKdWAlj9Z"
      }
    },
    {
      "cell_type": "code",
      "source": [
        "deportista2 = sc.textFile('/content/deportista.csv')\n",
        "deportista.take(20)"
      ],
      "metadata": {
        "id": "u1ly_fHBli8y",
        "colab": {
          "base_uri": "https://localhost:8080/"
        },
        "outputId": "a6c453fc-b810-47b9-b895-ccf3086a95f0"
      },
      "execution_count": 6,
      "outputs": [
        {
          "output_type": "execute_result",
          "data": {
            "text/plain": [
              "['1,A Dijiang,1,24,180,80,199',\n",
              " '2,A Lamusi,1,23,170,60,199',\n",
              " '3,Gunnar Nielsen Aaby,1,24,0,0,273',\n",
              " '4,Edgar Lindenau Aabye,1,34,0,0,278',\n",
              " '5,Christine Jacoba Aaftink,2,21,185,82,705',\n",
              " '6,Per Knut Aaland,1,31,188,75,1096',\n",
              " '7,John Aalberg,1,31,183,72,1096',\n",
              " '8,Cornelia Cor Aalten Strannood ,2,18,168,0,705',\n",
              " '9,Antti Sami Aalto,1,26,186,96,350',\n",
              " '10,Einar Ferdinand Einari Aalto,1,26,0,0,350',\n",
              " '11,Jorma Ilmari Aalto,1,22,182,76.5,350',\n",
              " '12,Jyri Tapani Aalto,1,31,172,70,350',\n",
              " '13,Minna Maarit Aalto,2,30,159,55.5,350',\n",
              " '14,Pirjo Hannele Aalto Mattila ,2,32,171,65,350',\n",
              " '15,Arvo Ossian Aaltonen,1,22,0,0,350',\n",
              " '16,Juhamatti Tapio Aaltonen,1,28,184,85,350',\n",
              " '17,Paavo Johannes Aaltonen,1,28,175,64,350',\n",
              " '18,Timo Antero Aaltonen,1,31,189,130,350',\n",
              " '19,Win Valdemar Aaltonen,1,54,0,0,350',\n",
              " '20,Kjetil Andr Aamodt,1,20,176,85,742']"
            ]
          },
          "metadata": {},
          "execution_count": 6
        }
      ]
    },
    {
      "cell_type": "code",
      "source": [
        "deportista2.getNumPartitions()"
      ],
      "metadata": {
        "id": "Kyzf3kDslYuY",
        "colab": {
          "base_uri": "https://localhost:8080/"
        },
        "outputId": "4d812359-0e4e-4465-8c2e-a77933caf342"
      },
      "execution_count": 8,
      "outputs": [
        {
          "output_type": "execute_result",
          "data": {
            "text/plain": [
              "2"
            ]
          },
          "metadata": {},
          "execution_count": 8
        }
      ]
    },
    {
      "cell_type": "markdown",
      "source": [
        "3. [5 ptos] Crear un nuevo rdd llamado deportistaTotal que contenga la unión de los rdd deportista y deportista2."
      ],
      "metadata": {
        "id": "MZeb0-Zp7ejL"
      }
    },
    {
      "cell_type": "code",
      "source": [
        "deportistaTotal = deportista.union(deportista2)"
      ],
      "metadata": {
        "id": "Edgi4V0A7gwF"
      },
      "execution_count": 9,
      "outputs": []
    },
    {
      "cell_type": "markdown",
      "source": [
        "4. [5 ptos] Mostrar la cantidad de registros que posee el rdd deportistaTotal"
      ],
      "metadata": {
        "id": "FlJ-TcMR7lSR"
      }
    },
    {
      "cell_type": "code",
      "source": [
        "deportistaTotal.count()"
      ],
      "metadata": {
        "colab": {
          "base_uri": "https://localhost:8080/"
        },
        "id": "SNtNzkHF7ona",
        "outputId": "5f0d20d6-4241-4904-d61c-52e8632845b7"
      },
      "execution_count": 10,
      "outputs": [
        {
          "output_type": "execute_result",
          "data": {
            "text/plain": [
              "135572"
            ]
          },
          "metadata": {},
          "execution_count": 10
        }
      ]
    },
    {
      "cell_type": "markdown",
      "source": [
        "5. [5 ptos] Crear un RDD llamado MayorEdad que permita filtrar todos los deportistas mayores de edad"
      ],
      "metadata": {
        "id": "ld1U8Kjm70zs"
      }
    },
    {
      "cell_type": "code",
      "source": [
        "MayorEdad = deportistaTotal.map(lambda line: line.split(\",\")).filter(lambda p: len(p) == 7 and int(p[3]) >= 18)\n",
        "MayorEdad.take(5)"
      ],
      "metadata": {
        "colab": {
          "base_uri": "https://localhost:8080/"
        },
        "id": "0I1BwX7_73r7",
        "outputId": "9e5946b6-21ca-4297-9606-3be9db4c8952"
      },
      "execution_count": 11,
      "outputs": [
        {
          "output_type": "execute_result",
          "data": {
            "text/plain": [
              "[['1', 'A Dijiang', '1', '24', '180', '80', '199'],\n",
              " ['2', 'A Lamusi', '1', '23', '170', '60', '199'],\n",
              " ['3', 'Gunnar Nielsen Aaby', '1', '24', '0', '0', '273'],\n",
              " ['4', 'Edgar Lindenau Aabye', '1', '34', '0', '0', '278'],\n",
              " ['5', 'Christine Jacoba Aaftink', '2', '21', '185', '82', '705']]"
            ]
          },
          "metadata": {},
          "execution_count": 11
        }
      ]
    },
    {
      "cell_type": "markdown",
      "source": [
        "6. [5 ptos] Crear un RDD llamado Deportistas_mujer que muestre solo los deportistas del género femenino (sexo=2)."
      ],
      "metadata": {
        "id": "I_MMR8da8JtC"
      }
    },
    {
      "cell_type": "code",
      "source": [
        "Deportistas_mujer = deportistaTotal.map(lambda line: line.split(\",\")).filter(lambda p: len(p) == 7 and int(p[2]) == 2)\n",
        "Deportistas_mujer.take(5)"
      ],
      "metadata": {
        "colab": {
          "base_uri": "https://localhost:8080/"
        },
        "id": "AeJgm8Zg8LrX",
        "outputId": "67bf9711-b6b6-4244-91f2-6754e8f2ff54"
      },
      "execution_count": 12,
      "outputs": [
        {
          "output_type": "execute_result",
          "data": {
            "text/plain": [
              "[['5', 'Christine Jacoba Aaftink', '2', '21', '185', '82', '705'],\n",
              " ['8', 'Cornelia Cor Aalten Strannood ', '2', '18', '168', '0', '705'],\n",
              " ['13', 'Minna Maarit Aalto', '2', '30', '159', '55.5', '350'],\n",
              " ['14', 'Pirjo Hannele Aalto Mattila ', '2', '32', '171', '65', '350'],\n",
              " ['21', 'Ragnhild Margrethe Aamodt', '2', '27', '163', '0', '742']]"
            ]
          },
          "metadata": {},
          "execution_count": 12
        }
      ]
    },
    {
      "cell_type": "markdown",
      "source": [
        "7. [5 ptos] Convertir a mayúsculas todas las palabras del rdd deportistaTotal"
      ],
      "metadata": {
        "id": "kV94_6bu8WoR"
      }
    },
    {
      "cell_type": "code",
      "source": [
        "deportistaTotal = deportistaTotal.map(lambda x: x.upper())\n",
        "deportistaTotal.take(20)"
      ],
      "metadata": {
        "colab": {
          "base_uri": "https://localhost:8080/"
        },
        "id": "4A06JyuW8aMu",
        "outputId": "51e9b11a-62a4-4834-cfeb-152efa5ad416"
      },
      "execution_count": 13,
      "outputs": [
        {
          "output_type": "execute_result",
          "data": {
            "text/plain": [
              "['1,A DIJIANG,1,24,180,80,199',\n",
              " '2,A LAMUSI,1,23,170,60,199',\n",
              " '3,GUNNAR NIELSEN AABY,1,24,0,0,273',\n",
              " '4,EDGAR LINDENAU AABYE,1,34,0,0,278',\n",
              " '5,CHRISTINE JACOBA AAFTINK,2,21,185,82,705',\n",
              " '6,PER KNUT AALAND,1,31,188,75,1096',\n",
              " '7,JOHN AALBERG,1,31,183,72,1096',\n",
              " '8,CORNELIA COR AALTEN STRANNOOD ,2,18,168,0,705',\n",
              " '9,ANTTI SAMI AALTO,1,26,186,96,350',\n",
              " '10,EINAR FERDINAND EINARI AALTO,1,26,0,0,350',\n",
              " '11,JORMA ILMARI AALTO,1,22,182,76.5,350',\n",
              " '12,JYRI TAPANI AALTO,1,31,172,70,350',\n",
              " '13,MINNA MAARIT AALTO,2,30,159,55.5,350',\n",
              " '14,PIRJO HANNELE AALTO MATTILA ,2,32,171,65,350',\n",
              " '15,ARVO OSSIAN AALTONEN,1,22,0,0,350',\n",
              " '16,JUHAMATTI TAPIO AALTONEN,1,28,184,85,350',\n",
              " '17,PAAVO JOHANNES AALTONEN,1,28,175,64,350',\n",
              " '18,TIMO ANTERO AALTONEN,1,31,189,130,350',\n",
              " '19,WIN VALDEMAR AALTONEN,1,54,0,0,350',\n",
              " '20,KJETIL ANDR AAMODT,1,20,176,85,742']"
            ]
          },
          "metadata": {},
          "execution_count": 13
        }
      ]
    },
    {
      "cell_type": "markdown",
      "source": [
        "8. [10 ptos] Convertir el rdd deportistaTotal en un dataframe llamado deportista que tenga los siguientes títulos de columnas \"deportista_id\", \"nombre\", \"genero\", \"edad\", \"altura\", \"peso\", \"equipo_id\""
      ],
      "metadata": {
        "id": "JTc7EdvX8n0f"
      }
    },
    {
      "cell_type": "code",
      "source": [
        "columnas = [\"deportista_id\", \"nombre\", \"genero\", \"edad\", \"altura\", \"peso\", \"equipo_id\"]\n",
        "\n",
        "deportista = deportistaTotal.map(lambda l: l.split(\",\")).filter(lambda p: len(p) == 7).toDF(columnas)\n",
        "\n",
        "deportista = deportista\\\n",
        ".withColumn(\"deportista_id\",deportista.deportista_id.cast(\"int\"))\\\n",
        ".withColumn(\"nombre\",deportista.nombre.cast(\"string\"))\\\n",
        ".withColumn(\"genero\",deportista.genero.cast(\"int\"))\\\n",
        ".withColumn(\"edad\",deportista.edad.cast(\"int\"))\\\n",
        ".withColumn(\"altura\", deportista.altura.cast(\"int\"))\\\n",
        ".withColumn(\"peso\",deportista.peso.cast(\"int\"))\\\n",
        ".withColumn(\"equipo_id\",deportista.equipo_id.cast(\"int\"))\n",
        "\n",
        "\n",
        "deportista.show(10, truncate = False)\n",
        "deportista.printSchema()"
      ],
      "metadata": {
        "colab": {
          "base_uri": "https://localhost:8080/"
        },
        "id": "Ok_Jsix28prY",
        "outputId": "0870b66e-895e-483d-f589-e40c5f2b5941"
      },
      "execution_count": 14,
      "outputs": [
        {
          "output_type": "stream",
          "name": "stdout",
          "text": [
            "+-------------+------------------------------+------+----+------+----+---------+\n",
            "|deportista_id|nombre                        |genero|edad|altura|peso|equipo_id|\n",
            "+-------------+------------------------------+------+----+------+----+---------+\n",
            "|1            |A DIJIANG                     |1     |24  |180   |80  |199      |\n",
            "|2            |A LAMUSI                      |1     |23  |170   |60  |199      |\n",
            "|3            |GUNNAR NIELSEN AABY           |1     |24  |0     |0   |273      |\n",
            "|4            |EDGAR LINDENAU AABYE          |1     |34  |0     |0   |278      |\n",
            "|5            |CHRISTINE JACOBA AAFTINK      |2     |21  |185   |82  |705      |\n",
            "|6            |PER KNUT AALAND               |1     |31  |188   |75  |1096     |\n",
            "|7            |JOHN AALBERG                  |1     |31  |183   |72  |1096     |\n",
            "|8            |CORNELIA COR AALTEN STRANNOOD |2     |18  |168   |0   |705      |\n",
            "|9            |ANTTI SAMI AALTO              |1     |26  |186   |96  |350      |\n",
            "|10           |EINAR FERDINAND EINARI AALTO  |1     |26  |0     |0   |350      |\n",
            "+-------------+------------------------------+------+----+------+----+---------+\n",
            "only showing top 10 rows\n",
            "\n",
            "root\n",
            " |-- deportista_id: integer (nullable = true)\n",
            " |-- nombre: string (nullable = true)\n",
            " |-- genero: integer (nullable = true)\n",
            " |-- edad: integer (nullable = true)\n",
            " |-- altura: integer (nullable = true)\n",
            " |-- peso: integer (nullable = true)\n",
            " |-- equipo_id: integer (nullable = true)\n",
            "\n"
          ]
        }
      ]
    },
    {
      "cell_type": "markdown",
      "metadata": {
        "id": "ba45e0f6"
      },
      "source": [
        "## II.- Manejo y uso de DataFrames en Spark"
      ]
    },
    {
      "cell_type": "markdown",
      "source": [
        "1. [20 ptos] Crear los DataFrame Evento, Resultado, Equipos y Juego los que deben contener los datos de los archivos eventos.csv, equipos, resultado.csv y juego.json."
      ],
      "metadata": {
        "id": "m7Rg4bO39oD1"
      }
    },
    {
      "cell_type": "code",
      "source": [
        "Evento = spark.read.csv(\"evento.csv\", header = True, sep = \",\", inferSchema=True, quote=\"\\\"\")\n",
        "Resultado = spark.read.csv(\"resultados.csv\", header = True, sep = \";\", inferSchema=True)\n",
        "Equipos = spark.read.csv(\"equipo.csv\", header = True, inferSchema=True)\n",
        "Juego = spark.read.option(\"multiline\", \"true\").json(\"juegos.json\")\n",
        "\n",
        "deportista.show(4)\n",
        "Evento.show(4)\n",
        "Resultado.show(4)\n",
        "Equipos.show(4)\n",
        "Juego.show(4)\n"
      ],
      "metadata": {
        "colab": {
          "base_uri": "https://localhost:8080/"
        },
        "id": "Czg-J68l94Fh",
        "outputId": "654917ad-aec2-46ca-8874-23d47d760657"
      },
      "execution_count": 22,
      "outputs": [
        {
          "output_type": "stream",
          "name": "stdout",
          "text": [
            "+-------------+--------------------+------+----+------+----+---------+\n",
            "|deportista_id|              nombre|genero|edad|altura|peso|equipo_id|\n",
            "+-------------+--------------------+------+----+------+----+---------+\n",
            "|            1|           A DIJIANG|     1|  24|   180|  80|      199|\n",
            "|            2|            A LAMUSI|     1|  23|   170|  60|      199|\n",
            "|            3| GUNNAR NIELSEN AABY|     1|  24|     0|   0|      273|\n",
            "|            4|EDGAR LINDENAU AABYE|     1|  34|     0|   0|      278|\n",
            "+-------------+--------------------+------+----+------+----+---------+\n",
            "only showing top 4 rows\n",
            "\n",
            "+----------+--------------------+----------+\n",
            "|cod_evento|              evento|deporte_id|\n",
            "+----------+--------------------+----------+\n",
            "|         1|Basketball Men's ...|         1|\n",
            "|         2|Judo Men's Extra-...|         2|\n",
            "|         3|Football Men's Fo...|         3|\n",
            "|         4|Tug-Of-War Men's ...|         4|\n",
            "+----------+--------------------+----------+\n",
            "only showing top 4 rows\n",
            "\n",
            "+------------+-------+-------------+--------+---------+\n",
            "|resultado_id|medalla|deportista_id|juego_id|evento_id|\n",
            "+------------+-------+-------------+--------+---------+\n",
            "|           1|     NA|            1|      39|        1|\n",
            "|           2|     NA|            2|      49|        2|\n",
            "|           3|     NA|            3|       7|        3|\n",
            "|           4|   Gold|            4|       2|        4|\n",
            "+------------+-------+-------------+--------+---------+\n",
            "only showing top 4 rows\n",
            "\n",
            "+---+--------------------+-----+\n",
            "| id|              equipo|sigla|\n",
            "+---+--------------------+-----+\n",
            "|  1|         30. Februar|  AUT|\n",
            "|  2|A North American ...|  MEX|\n",
            "|  3|           Acipactli|  MEX|\n",
            "|  4|             Acturus|  ARG|\n",
            "+---+--------------------+-----+\n",
            "only showing top 4 rows\n",
            "\n",
            "+-----------+------+--------+---------+\n",
            "|        ano|ciudad|juego_id|temporada|\n",
            "+-----------+------+--------+---------+\n",
            "|1896 Verano|Verano|       1|     1896|\n",
            "|1900 Verano|Verano|       2|     1900|\n",
            "|1904 Verano|Verano|       3|     1904|\n",
            "|1906 Verano|Verano|       4|     1906|\n",
            "+-----------+------+--------+---------+\n",
            "only showing top 4 rows\n",
            "\n"
          ]
        }
      ]
    },
    {
      "cell_type": "markdown",
      "source": [
        "2. [10 ptos] Realizar optimización de los dataframe que se han creado."
      ],
      "metadata": {
        "id": "djcebubU-Suq"
      }
    },
    {
      "cell_type": "code",
      "source": [
        "Evento.cache()\n",
        "Resultado.cache()\n",
        "Equipos.cache()\n",
        "Juego.cache()\n"
      ],
      "metadata": {
        "colab": {
          "base_uri": "https://localhost:8080/"
        },
        "id": "nudviy5C-tpn",
        "outputId": "63a10edc-248b-4e64-fa3e-9b9a199a1000"
      },
      "execution_count": 16,
      "outputs": [
        {
          "output_type": "execute_result",
          "data": {
            "text/plain": [
              "DataFrame[ano: string, ciudad: string, juego_id: bigint, temporada: bigint]"
            ]
          },
          "metadata": {},
          "execution_count": 16
        }
      ]
    },
    {
      "cell_type": "markdown",
      "source": [
        "3. [20 ptos] Crear un nuevo dataframe que contenga los datos de todos los dataframes (deportista, evento, equipo, resultado y juego)"
      ],
      "metadata": {
        "id": "HACmUP6RAFdR"
      }
    },
    {
      "cell_type": "code",
      "source": [
        "from pyspark.sql.functions import broadcast\n",
        "dfTodos = (\n",
        "    Resultado\n",
        "    .join(broadcast(deportista), \"deportista_id\")\n",
        "    .join(broadcast(Equipos), deportista[\"equipo_id\"] == Equipos[\"id\"])\n",
        "    .join(broadcast(Juego), \"juego_id\")\n",
        "    .join(broadcast(Evento), Resultado[\"evento_id\"] == Evento[\"cod_evento\"])\n",
        ")\n",
        "\n",
        "dfTodos.show(10)"
      ],
      "metadata": {
        "colab": {
          "base_uri": "https://localhost:8080/"
        },
        "id": "A7OBAa82AOM9",
        "outputId": "31a5a948-449b-4b5d-d076-1a434dbd9b2d"
      },
      "execution_count": 26,
      "outputs": [
        {
          "output_type": "stream",
          "name": "stdout",
          "text": [
            "+--------+-------------+------------+-------+---------+--------------------+------+----+------+----+---------+---+--------------+-----+-------------+--------+---------+----------+--------------------+----------+\n",
            "|juego_id|deportista_id|resultado_id|medalla|evento_id|              nombre|genero|edad|altura|peso|equipo_id| id|        equipo|sigla|          ano|  ciudad|temporada|cod_evento|              evento|deporte_id|\n",
            "+--------+-------------+------------+-------+---------+--------------------+------+----+------+----+---------+---+--------------+-----+-------------+--------+---------+----------+--------------------+----------+\n",
            "|      39|            1|           1|     NA|        1|           A DIJIANG|     1|  24|   180|  80|      199|199|         China|  CHN|  1992 Verano|  Verano|     1992|         1|Basketball Men's ...|         1|\n",
            "|      39|            1|           1|     NA|        1|           A DIJIANG|     1|  24|   180|  80|      199|199|         China|  CHN|  1992 Verano|  Verano|     1992|         1|Basketball Men's ...|         1|\n",
            "|      49|            2|           2|     NA|        2|            A LAMUSI|     1|  23|   170|  60|      199|199|         China|  CHN|  2012 Verano|  Verano|     2012|         2|Judo Men's Extra-...|         2|\n",
            "|      49|            2|           2|     NA|        2|            A LAMUSI|     1|  23|   170|  60|      199|199|         China|  CHN|  2012 Verano|  Verano|     2012|         2|Judo Men's Extra-...|         2|\n",
            "|       7|            3|           3|     NA|        3| GUNNAR NIELSEN AABY|     1|  24|     0|   0|      273|273|       Denmark|  DEN|  1920 Verano|  Verano|     1920|         3|Football Men's Fo...|         3|\n",
            "|       7|            3|           3|     NA|        3| GUNNAR NIELSEN AABY|     1|  24|     0|   0|      273|273|       Denmark|  DEN|  1920 Verano|  Verano|     1920|         3|Football Men's Fo...|         3|\n",
            "|       2|            4|           4|   Gold|        4|EDGAR LINDENAU AABYE|     1|  34|     0|   0|      278|278|Denmark/Sweden|  SWE|  1900 Verano|  Verano|     1900|         4|Tug-Of-War Men's ...|         4|\n",
            "|       2|            4|           4|   Gold|        4|EDGAR LINDENAU AABYE|     1|  34|     0|   0|      278|278|Denmark/Sweden|  SWE|  1900 Verano|  Verano|     1900|         4|Tug-Of-War Men's ...|         4|\n",
            "|      36|            5|           5|     NA|        5|CHRISTINE JACOBA ...|     2|  21|   185|  82|      705|705|   Netherlands|  NED|1988 Invierno|Invierno|     1988|         5|Speed Skating Wom...|         5|\n",
            "|      36|            5|           5|     NA|        5|CHRISTINE JACOBA ...|     2|  21|   185|  82|      705|705|   Netherlands|  NED|1988 Invierno|Invierno|     1988|         5|Speed Skating Wom...|         5|\n",
            "+--------+-------------+------------+-------+---------+--------------------+------+----+------+----+---------+---+--------------+-----+-------------+--------+---------+----------+--------------------+----------+\n",
            "only showing top 10 rows\n",
            "\n"
          ]
        }
      ]
    },
    {
      "cell_type": "markdown",
      "source": [
        "4. [10 ptos] Paralelizar el dataframe a 5 particiones."
      ],
      "metadata": {
        "id": "oqxxj-C6CRLD"
      }
    },
    {
      "cell_type": "code",
      "source": [
        "newTodos = dfTodos.repartition(5)\n",
        "newTodos.rdd.getNumPartitions()"
      ],
      "metadata": {
        "colab": {
          "base_uri": "https://localhost:8080/"
        },
        "id": "htbiQPmCCScO",
        "outputId": "e37013ec-62b0-4c4b-f5b0-15cdd4f5e072"
      },
      "execution_count": 28,
      "outputs": [
        {
          "output_type": "execute_result",
          "data": {
            "text/plain": [
              "5"
            ]
          },
          "metadata": {},
          "execution_count": 28
        }
      ]
    },
    {
      "cell_type": "markdown",
      "source": [
        "5. [5 ptos] Mostrar la cantidad filas del DataFrame, junto al tipo de datos que contiene y su esquema."
      ],
      "metadata": {
        "id": "fLPrRJp7Cglj"
      }
    },
    {
      "cell_type": "code",
      "source": [
        "newTodos.count()"
      ],
      "metadata": {
        "colab": {
          "base_uri": "https://localhost:8080/"
        },
        "id": "fZYygvDMClmo",
        "outputId": "c6fe407d-8e00-47cd-a4b2-09ac943eb73f"
      },
      "execution_count": 29,
      "outputs": [
        {
          "output_type": "execute_result",
          "data": {
            "text/plain": [
              "204476"
            ]
          },
          "metadata": {},
          "execution_count": 29
        }
      ]
    },
    {
      "cell_type": "code",
      "source": [
        "newTodos.dtypes"
      ],
      "metadata": {
        "colab": {
          "base_uri": "https://localhost:8080/"
        },
        "id": "Y8nr62mLCy38",
        "outputId": "da0ac053-00e9-4953-9b1a-7b79895a83dd"
      },
      "execution_count": 30,
      "outputs": [
        {
          "output_type": "execute_result",
          "data": {
            "text/plain": [
              "[('juego_id', 'int'),\n",
              " ('deportista_id', 'int'),\n",
              " ('resultado_id', 'int'),\n",
              " ('medalla', 'string'),\n",
              " ('evento_id', 'string'),\n",
              " ('nombre', 'string'),\n",
              " ('genero', 'int'),\n",
              " ('edad', 'int'),\n",
              " ('altura', 'int'),\n",
              " ('peso', 'int'),\n",
              " ('equipo_id', 'int'),\n",
              " ('id', 'int'),\n",
              " ('equipo', 'string'),\n",
              " ('sigla', 'string'),\n",
              " ('ano', 'string'),\n",
              " ('ciudad', 'string'),\n",
              " ('temporada', 'bigint'),\n",
              " ('cod_evento', 'string'),\n",
              " ('evento', 'string'),\n",
              " ('deporte_id', 'string')]"
            ]
          },
          "metadata": {},
          "execution_count": 30
        }
      ]
    },
    {
      "cell_type": "code",
      "source": [
        "newTodos.printSchema()"
      ],
      "metadata": {
        "colab": {
          "base_uri": "https://localhost:8080/"
        },
        "id": "patPrJrDC26G",
        "outputId": "dd32cebb-fd86-4a19-fcab-71cc99713f82"
      },
      "execution_count": 31,
      "outputs": [
        {
          "output_type": "stream",
          "name": "stdout",
          "text": [
            "root\n",
            " |-- juego_id: integer (nullable = true)\n",
            " |-- deportista_id: integer (nullable = true)\n",
            " |-- resultado_id: integer (nullable = true)\n",
            " |-- medalla: string (nullable = true)\n",
            " |-- evento_id: string (nullable = true)\n",
            " |-- nombre: string (nullable = true)\n",
            " |-- genero: integer (nullable = true)\n",
            " |-- edad: integer (nullable = true)\n",
            " |-- altura: integer (nullable = true)\n",
            " |-- peso: integer (nullable = true)\n",
            " |-- equipo_id: integer (nullable = true)\n",
            " |-- id: integer (nullable = true)\n",
            " |-- equipo: string (nullable = true)\n",
            " |-- sigla: string (nullable = true)\n",
            " |-- ano: string (nullable = true)\n",
            " |-- ciudad: string (nullable = true)\n",
            " |-- temporada: long (nullable = true)\n",
            " |-- cod_evento: string (nullable = true)\n",
            " |-- evento: string (nullable = true)\n",
            " |-- deporte_id: string (nullable = true)\n",
            "\n"
          ]
        }
      ]
    },
    {
      "cell_type": "markdown",
      "source": [
        "6. [10 ptos] Crear una columna calculada llamada IMC en el dataframe que permita calcular el índice de masa corporal de cada uno de los deportistas."
      ],
      "metadata": {
        "id": "Px7wx9PoCl1Z"
      }
    },
    {
      "cell_type": "code",
      "source": [
        "from pyspark.sql.functions import col\n",
        "newTodos = newTodos.withColumn(\"IMC\", col(\"peso\") / ((col(\"altura\")*0.01)**2))\n",
        "newTodos.show()"
      ],
      "metadata": {
        "colab": {
          "base_uri": "https://localhost:8080/"
        },
        "id": "yvtWxptQC-Bf",
        "outputId": "d0cbcd11-a0a8-4373-ae08-723d0aeff347"
      },
      "execution_count": 32,
      "outputs": [
        {
          "output_type": "stream",
          "name": "stdout",
          "text": [
            "+--------+-------------+------------+-------+---------+--------------------+------+----+------+----+---------+----+--------------------+-----+-------------+--------+---------+----------+--------------------+----------+------------------+\n",
            "|juego_id|deportista_id|resultado_id|medalla|evento_id|              nombre|genero|edad|altura|peso|equipo_id|  id|              equipo|sigla|          ano|  ciudad|temporada|cod_evento|              evento|deporte_id|               IMC|\n",
            "+--------+-------------+------------+-------+---------+--------------------+------+----+------+----+---------+----+--------------------+-----+-------------+--------+---------+----------+--------------------+----------+------------------+\n",
            "|       5|        55816|      110382|     NA|      150| HUGO ALARIK JONSSON|     1|  24|     0|   0|      350| 350|             Finland|  FIN|  1908 Verano|  Verano|     1908|       150|Swimming Men's 10...|         9|              NULL|\n",
            "|      51|        60041|      118670|     NA|       49|          KIM JIHOON|     1|  31|   179|  75|      970| 970|         South Korea|  KOR|  2016 Verano|  Verano|     2016|        49|Sailing Men's Two...|        11| 23.40750912892856|\n",
            "|      32|        62096|      122849|     NA|      126|KONSTANTIN LEONID...|     1|  22|     0|   0|      978| 978|        Soviet Union|  URS|1980 Invierno|Invierno|     1980|       126|Figure Skating Me...|        34|              NULL|\n",
            "|      42|        11171|       21159|     NA|       31|VASILY VIKTOROVIC...|     1|  19|   176|  76|      874| 874|              Russia|  RUS|1998 Invierno|Invierno|     1998|        31|Alpine Skiing Men...|        15|24.535123966942148|\n",
            "|      29|        42835|       84362|     NA|      114|   WERNER GRIESHOFER|     1|  12|   170|  48|       71|  71|             Austria|  AUT|  1972 Verano|  Verano|     1972|       114|Rowing Men's Coxe...|        22| 16.60899653979239|\n",
            "|       3|        37200|       73186|     NA|       21|   WILLIAM FRIEDRICH|     1|   0|     0|   0|     1096|1096|       United States|  USA|  1904 Verano|  Verano|     1904|        21|Gymnastics Men's ...|        13|              NULL|\n",
            "|      50|        55572|      109915|     NA|      226|         IVAN JOLLER|     1|  30|   180|  72|     1019|1019|         Switzerland|  SUI|2014 Invierno|Invierno|     2014|       226|Biathlon Men's 20...|        12| 22.22222222222222|\n",
            "|      30|        60783|      120065|     NA|      250|MARJALIISA KIRVES...|     2|  20|   176|  68|      350| 350|             Finland|  FIN|1976 Invierno|Invierno|     1976|       250|Cross Country Ski...|         6|21.952479338842977|\n",
            "|      14|        63133|      125109|     NA|      386|      DIMITAR KOSTOV|     1|  28|     0|   0|      154| 154|            Bulgaria|  BUL|1936 Invierno|Invierno|     1936|       386|Cross Country Ski...|         6|              NULL|\n",
            "|      35|        38555|       75959|     NA|       82|FAUSTO DANIEL GAR...|     1|  28|   169|  51|      656| 656|              Mexico|  MEX|  1984 Verano|  Verano|     1984|        82|Boxing Men's Flyw...|        27|17.856517628934565|\n",
            "|      39|        34017|       66501|     NA|      185|         AHMAD FARAJ|     1|  22|   167|  60|     1094|1094|United Arab Emirates|  UAE|  1992 Verano|  Verano|     1992|       185|Swimming Men's 20...|         9|21.513858510523864|\n",
            "|      41|         7620|       14115|     NA|      509|OLGA VLADIMIROVNA...|     2|  16|   176|  60|       93|  93|             Belarus|  BLR|  1996 Verano|  Verano|     1996|       509|Tennis Women's Si...|        32|19.369834710743802|\n",
            "|      41|        12224|       23242|     NA|      471|JEENA BLAEVIA JER...|     2|  26|   170|  55|      567| 567|              Latvia|  LAT|  1996 Verano|  Verano|     1996|       471|Athletics Women's...|         7|19.031141868512112|\n",
            "|      34|        27360|       53304|     NA|       51|WALTER DELLE KART...|     1|  25|   178|  79|       73|  73|           Austria-2|  AUT|1984 Invierno|Invierno|     1984|        51|Bobsleigh Men's Four|        23|24.933720489837143|\n",
            "|      29|        25020|       48545|     NA|      332|        JNOS DALMATI|     1|  30|   174|  63|      477| 477|             Hungary|  HUN|  1972 Verano|  Verano|     1972|       332|Athletics Men's 5...|         7|20.808561236623067|\n",
            "|      44|        57372|      113269|     NA|       14|        RICHARD KAPU|     1|  29|   182|  92|      941| 941|            Slovakia|  SVK|2002 Invierno|Invierno|     2002|        14|Ice Hockey Men's ...|         8| 27.77442337881898|\n",
            "|      23|        34274|       67023|     NA|       23|    BERNARD FAUQUEUX|     1|  21|   166|  62|      362| 362|              France|  FRA|  1960 Verano|  Verano|     1960|        23|Gymnastics Men's ...|        13|22.499637102627375|\n",
            "|      33|        11386|       21578| Bronze|        1|OLEKSANDR MYKHAIL...|     1|  21|   214| 117|      978| 978|        Soviet Union|  URS|  1980 Verano|  Verano|     1980|         1|Basketball Men's ...|         1| 25.54808280199144|\n",
            "|      49|        12399|       23609|     NA|      171|      PERNILLE BLUME|     2|  18|   170|  58|      273| 273|             Denmark|  DEN|  2012 Verano|  Verano|     2012|       171|Swimming Women's ...|         9| 20.06920415224914|\n",
            "|      43|        54622|      108036|     NA|      586|      JAROSLAV JEBEK|     1|  21|   171|  81|      259| 259|      Czechoslovakia|  TCH|  2000 Verano|  Verano|     2000|       586|Cycling Men's Tea...|        29| 27.70083102493075|\n",
            "+--------+-------------+------------+-------+---------+--------------------+------+----+------+----+---------+----+--------------------+-----+-------------+--------+---------+----------+--------------------+----------+------------------+\n",
            "only showing top 20 rows\n",
            "\n"
          ]
        }
      ]
    },
    {
      "cell_type": "markdown",
      "source": [
        "7. [10 ptos] Crear una columna calculada llamada Descripción_sexo en el dataframe que permita determinar el sexo de los deportistas, considerando que la columna sexo=1 es hombre y sexo=2 es mujer."
      ],
      "metadata": {
        "id": "W2-Rto-RDEHD"
      }
    },
    {
      "cell_type": "code",
      "source": [
        "from pyspark.sql.functions import expr\n",
        "cond = \"\"\"case when genero = 1 then 'Hombre'\n",
        "               else case when genero = 2 then 'Mujer'\n",
        "\n",
        "                         else 'Genero_No_Valido'\n",
        "                              end\n",
        "\n",
        "                end as Descripcion_Sexo\"\"\"\n",
        "\n",
        "df_final = newTodos.withColumn(\"Descripcion_Sexo\", expr(cond))\n",
        "df_final.show()"
      ],
      "metadata": {
        "colab": {
          "base_uri": "https://localhost:8080/"
        },
        "id": "dOtwaSEWDDk_",
        "outputId": "b14e4336-d52d-467a-f46c-55a219998978"
      },
      "execution_count": 33,
      "outputs": [
        {
          "output_type": "stream",
          "name": "stdout",
          "text": [
            "+--------+-------------+------------+-------+---------+--------------------+------+----+------+----+---------+----+--------------------+-----+-------------+--------+---------+----------+--------------------+----------+------------------+----------------+\n",
            "|juego_id|deportista_id|resultado_id|medalla|evento_id|              nombre|genero|edad|altura|peso|equipo_id|  id|              equipo|sigla|          ano|  ciudad|temporada|cod_evento|              evento|deporte_id|               IMC|Descripcion_Sexo|\n",
            "+--------+-------------+------------+-------+---------+--------------------+------+----+------+----+---------+----+--------------------+-----+-------------+--------+---------+----------+--------------------+----------+------------------+----------------+\n",
            "|       5|        55816|      110382|     NA|      150| HUGO ALARIK JONSSON|     1|  24|     0|   0|      350| 350|             Finland|  FIN|  1908 Verano|  Verano|     1908|       150|Swimming Men's 10...|         9|              NULL|          Hombre|\n",
            "|      51|        60041|      118670|     NA|       49|          KIM JIHOON|     1|  31|   179|  75|      970| 970|         South Korea|  KOR|  2016 Verano|  Verano|     2016|        49|Sailing Men's Two...|        11| 23.40750912892856|          Hombre|\n",
            "|      32|        62096|      122849|     NA|      126|KONSTANTIN LEONID...|     1|  22|     0|   0|      978| 978|        Soviet Union|  URS|1980 Invierno|Invierno|     1980|       126|Figure Skating Me...|        34|              NULL|          Hombre|\n",
            "|      42|        11171|       21159|     NA|       31|VASILY VIKTOROVIC...|     1|  19|   176|  76|      874| 874|              Russia|  RUS|1998 Invierno|Invierno|     1998|        31|Alpine Skiing Men...|        15|24.535123966942148|          Hombre|\n",
            "|      29|        42835|       84362|     NA|      114|   WERNER GRIESHOFER|     1|  12|   170|  48|       71|  71|             Austria|  AUT|  1972 Verano|  Verano|     1972|       114|Rowing Men's Coxe...|        22| 16.60899653979239|          Hombre|\n",
            "|       3|        37200|       73186|     NA|       21|   WILLIAM FRIEDRICH|     1|   0|     0|   0|     1096|1096|       United States|  USA|  1904 Verano|  Verano|     1904|        21|Gymnastics Men's ...|        13|              NULL|          Hombre|\n",
            "|      50|        55572|      109915|     NA|      226|         IVAN JOLLER|     1|  30|   180|  72|     1019|1019|         Switzerland|  SUI|2014 Invierno|Invierno|     2014|       226|Biathlon Men's 20...|        12| 22.22222222222222|          Hombre|\n",
            "|      30|        60783|      120065|     NA|      250|MARJALIISA KIRVES...|     2|  20|   176|  68|      350| 350|             Finland|  FIN|1976 Invierno|Invierno|     1976|       250|Cross Country Ski...|         6|21.952479338842977|           Mujer|\n",
            "|      14|        63133|      125109|     NA|      386|      DIMITAR KOSTOV|     1|  28|     0|   0|      154| 154|            Bulgaria|  BUL|1936 Invierno|Invierno|     1936|       386|Cross Country Ski...|         6|              NULL|          Hombre|\n",
            "|      35|        38555|       75959|     NA|       82|FAUSTO DANIEL GAR...|     1|  28|   169|  51|      656| 656|              Mexico|  MEX|  1984 Verano|  Verano|     1984|        82|Boxing Men's Flyw...|        27|17.856517628934565|          Hombre|\n",
            "|      39|        34017|       66501|     NA|      185|         AHMAD FARAJ|     1|  22|   167|  60|     1094|1094|United Arab Emirates|  UAE|  1992 Verano|  Verano|     1992|       185|Swimming Men's 20...|         9|21.513858510523864|          Hombre|\n",
            "|      41|         7620|       14115|     NA|      509|OLGA VLADIMIROVNA...|     2|  16|   176|  60|       93|  93|             Belarus|  BLR|  1996 Verano|  Verano|     1996|       509|Tennis Women's Si...|        32|19.369834710743802|           Mujer|\n",
            "|      41|        12224|       23242|     NA|      471|JEENA BLAEVIA JER...|     2|  26|   170|  55|      567| 567|              Latvia|  LAT|  1996 Verano|  Verano|     1996|       471|Athletics Women's...|         7|19.031141868512112|           Mujer|\n",
            "|      34|        27360|       53304|     NA|       51|WALTER DELLE KART...|     1|  25|   178|  79|       73|  73|           Austria-2|  AUT|1984 Invierno|Invierno|     1984|        51|Bobsleigh Men's Four|        23|24.933720489837143|          Hombre|\n",
            "|      29|        25020|       48545|     NA|      332|        JNOS DALMATI|     1|  30|   174|  63|      477| 477|             Hungary|  HUN|  1972 Verano|  Verano|     1972|       332|Athletics Men's 5...|         7|20.808561236623067|          Hombre|\n",
            "|      44|        57372|      113269|     NA|       14|        RICHARD KAPU|     1|  29|   182|  92|      941| 941|            Slovakia|  SVK|2002 Invierno|Invierno|     2002|        14|Ice Hockey Men's ...|         8| 27.77442337881898|          Hombre|\n",
            "|      23|        34274|       67023|     NA|       23|    BERNARD FAUQUEUX|     1|  21|   166|  62|      362| 362|              France|  FRA|  1960 Verano|  Verano|     1960|        23|Gymnastics Men's ...|        13|22.499637102627375|          Hombre|\n",
            "|      33|        11386|       21578| Bronze|        1|OLEKSANDR MYKHAIL...|     1|  21|   214| 117|      978| 978|        Soviet Union|  URS|  1980 Verano|  Verano|     1980|         1|Basketball Men's ...|         1| 25.54808280199144|          Hombre|\n",
            "|      49|        12399|       23609|     NA|      171|      PERNILLE BLUME|     2|  18|   170|  58|      273| 273|             Denmark|  DEN|  2012 Verano|  Verano|     2012|       171|Swimming Women's ...|         9| 20.06920415224914|           Mujer|\n",
            "|      43|        54622|      108036|     NA|      586|      JAROSLAV JEBEK|     1|  21|   171|  81|      259| 259|      Czechoslovakia|  TCH|  2000 Verano|  Verano|     2000|       586|Cycling Men's Tea...|        29| 27.70083102493075|          Hombre|\n",
            "+--------+-------------+------------+-------+---------+--------------------+------+----+------+----+---------+----+--------------------+-----+-------------+--------+---------+----------+--------------------+----------+------------------+----------------+\n",
            "only showing top 20 rows\n",
            "\n"
          ]
        }
      ]
    },
    {
      "cell_type": "markdown",
      "source": [
        "8. [10 ptos] Crear un DataFrame que permita mostrar la cantidad de medallas de cada una de las categorías (oro, bronce, plata) obtenidas por los Equipos."
      ],
      "metadata": {
        "id": "UGhT1tGUDiG7"
      }
    },
    {
      "cell_type": "code",
      "source": [
        "from pyspark.sql import SparkSession\n",
        "from pyspark.sql.functions import *\n",
        "df_final.createOrReplaceTempView(\"dffinal\")\n",
        "df_medallas = spark.sql(\"select medalla,count(medalla) from dfFinal group by medalla\")\n",
        "df_medallas.show()"
      ],
      "metadata": {
        "colab": {
          "base_uri": "https://localhost:8080/"
        },
        "id": "deFassN-Dhjc",
        "outputId": "bc9747e4-0b7d-4cb3-8844-05c71989a269"
      },
      "execution_count": 34,
      "outputs": [
        {
          "output_type": "stream",
          "name": "stdout",
          "text": [
            "+-------+--------------+\n",
            "|medalla|count(medalla)|\n",
            "+-------+--------------+\n",
            "|     NA|        174298|\n",
            "| Silver|          9964|\n",
            "|   Gold|         10152|\n",
            "| Bronze|         10062|\n",
            "+-------+--------------+\n",
            "\n"
          ]
        }
      ]
    },
    {
      "cell_type": "markdown",
      "source": [
        "9. [10 ptos] Crear un Dataframe que permita obtener suma, promedio, máximo, mínimo de la edad de los deportistas por agrupado el tipo de medalla obtenida.\n"
      ],
      "metadata": {
        "id": "fyIbdU-3D0xZ"
      }
    },
    {
      "cell_type": "code",
      "source": [
        "df_final.createOrReplaceTempView(\"Tabla\")\n",
        "query = \"SELECT medalla AS tipo_medalla, sum(edad) AS suma, mean(edad) AS promedio, max(edad) AS maximo, min(edad) AS minimo FROM Tabla  WHERE edad > 0 AND medalla != 'NA' group by medalla ORDER BY medalla ASC\"\n",
        "medallas_resumen = spark.sql(query)\n",
        "medallas_resumen.show()"
      ],
      "metadata": {
        "colab": {
          "base_uri": "https://localhost:8080/"
        },
        "id": "ON7ylPb3D2NR",
        "outputId": "203e85e8-1911-4262-87ea-7f470c999998"
      },
      "execution_count": 39,
      "outputs": [
        {
          "output_type": "stream",
          "name": "stdout",
          "text": [
            "+------------+------+------------------+------+------+\n",
            "|tipo_medalla|  suma|          promedio|maximo|minimo|\n",
            "+------------+------+------------------+------+------+\n",
            "|      Bronze|228922| 23.16086604613517|    52|    13|\n",
            "|        Gold|233298|23.186046511627907|    64|    11|\n",
            "|      Silver|225056| 23.13486842105263|    68|    11|\n",
            "+------------+------+------------------+------+------+\n",
            "\n"
          ]
        }
      ]
    },
    {
      "cell_type": "markdown",
      "source": [
        "10. [10 ptos] Crear un nuevo DataFrame llamado temporada que permita obtener suma, promedio, máximo, mínimo de las alturas de los deportistas por agrupado por temporada.\n"
      ],
      "metadata": {
        "id": "cTC4NW7dD2gB"
      }
    },
    {
      "cell_type": "code",
      "source": [
        "query = \"SELECT temporada AS temporada, sum(altura) AS suma, round(mean(altura),2) AS promedio, max(altura) AS maximo, min(altura) AS minimo FROM Tabla  WHERE altura > 0 group by temporada ORDER BY temporada ASC\"\n",
        "temporada = spark.sql(query)\n",
        "temporada.show()"
      ],
      "metadata": {
        "colab": {
          "base_uri": "https://localhost:8080/"
        },
        "id": "s7GO-GcxD4Op",
        "outputId": "033ace4a-efdf-4f93-d26c-253f6cad8c07"
      },
      "execution_count": 40,
      "outputs": [
        {
          "output_type": "stream",
          "name": "stdout",
          "text": [
            "+---------+-------+--------+------+------+\n",
            "|temporada|   suma|promedio|maximo|minimo|\n",
            "+---------+-------+--------+------+------+\n",
            "|     1896|  10640|  177.33|   188|   167|\n",
            "|     1900|  12084|  177.71|   188|   153|\n",
            "|     1904|  32348|   175.8|   189|   155|\n",
            "|     1906|  24420|  179.56|   195|   167|\n",
            "|     1908|  53912|  177.34|   191|   162|\n",
            "|     1912|  73244|  177.78|   192|   158|\n",
            "|     1920|  74066|  176.35|   197|   156|\n",
            "|     1924| 111880|  175.36|   198|   155|\n",
            "|     1928| 123226|  176.04|   211|   155|\n",
            "|     1932| 147136|  174.75|   198|   152|\n",
            "|     1936| 147078|  176.35|   204|   152|\n",
            "|     1948| 162926|  176.33|   213|   140|\n",
            "|     1952| 288832|  174.21|   213|   150|\n",
            "|     1956| 341724|  173.46|   218|   137|\n",
            "|     1960|1060202|  173.07|   218|   137|\n",
            "|     1964|1178446|  173.66|   218|   148|\n",
            "|     1968|1415834|  173.64|   216|   127|\n",
            "|     1972|1548230|  174.66|   223|   132|\n",
            "|     1976|1305334|  174.51|   218|   136|\n",
            "|     1980|1156532|  175.02|   214|   131|\n",
            "+---------+-------+--------+------+------+\n",
            "only showing top 20 rows\n",
            "\n"
          ]
        }
      ]
    },
    {
      "cell_type": "markdown",
      "source": [
        "11. [10 ptos] Crear un nuevo DataFrame llamado sexo que permita obtener suma, promedio, máximo, mínimo de la edad de los deportistas por agrupado por sexo."
      ],
      "metadata": {
        "id": "CcY9VC1KD4zN"
      }
    },
    {
      "cell_type": "code",
      "source": [
        "query = \"SELECT Descripcion_sexo AS sexo, sum(edad) AS suma, round(mean(edad),2) AS promedio, max(edad) AS maximo, min(edad) AS minimo FROM Tabla  WHERE edad > 0 group by Descripcion_sexo ORDER BY descripcion_sexo ASC\"\n",
        "sexo = spark.sql(query)\n",
        "sexo.show()"
      ],
      "metadata": {
        "colab": {
          "base_uri": "https://localhost:8080/"
        },
        "id": "ZVynSkiRD5-c",
        "outputId": "8848d13a-734a-4053-9430-a5bb4c511fcc"
      },
      "execution_count": 41,
      "outputs": [
        {
          "output_type": "stream",
          "name": "stdout",
          "text": [
            "+------+-------+--------+------+------+\n",
            "|  sexo|   suma|promedio|maximo|minimo|\n",
            "+------+-------+--------+------+------+\n",
            "|Hombre|3250674|   23.65|    71|    11|\n",
            "| Mujer|1302970|   21.37|    63|    11|\n",
            "+------+-------+--------+------+------+\n",
            "\n"
          ]
        }
      ]
    }
  ],
  "metadata": {
    "colab": {
      "provenance": [],
      "include_colab_link": true
    },
    "kernelspec": {
      "display_name": "Python 3",
      "name": "python3"
    }
  },
  "nbformat": 4,
  "nbformat_minor": 0
}